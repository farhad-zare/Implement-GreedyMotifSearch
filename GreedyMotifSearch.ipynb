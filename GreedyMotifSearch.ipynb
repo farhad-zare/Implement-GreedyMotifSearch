{
 "cells": [
  {
   "cell_type": "markdown",
   "metadata": {},
   "source": [
    "    GREEDYMOTIFSEARCH(Dna, k, t)\n",
    "        BestMotifs ← motif matrix formed by first k-mers in each string\n",
    "                      from Dna\n",
    "        for each k-mer Motif in the first string from Dna\n",
    "            Motif1 ← Motif\n",
    "            for i = 2 to t\n",
    "                form Profile from motifs Motif1, …, Motifi - 1\n",
    "                Motifi ← Profile-most probable k-mer in the i-th string\n",
    "                          in Dna\n",
    "            Motifs ← (Motif1, …, Motift)\n",
    "            if Score(Motifs) < Score(BestMotifs)\n",
    "                BestMotifs ← Motifs\n",
    "        return BestMotifs"
   ]
  },
  {
   "cell_type": "code",
   "execution_count": 46,
   "metadata": {},
   "outputs": [],
   "source": [
    "def multiplyList(myList) :\n",
    "    result = 1\n",
    "    for x in myList:\n",
    "         result = result * x\n",
    "    return result"
   ]
  },
  {
   "cell_type": "code",
   "execution_count": 70,
   "metadata": {},
   "outputs": [],
   "source": [
    "def score(motifs):\n",
    "    L=[]\n",
    "    for i in range(0,len(motifs[0])):\n",
    "        dec={'A':int(0),'C':int(0),'G':int(0),'T':int(0)}\n",
    "        L1=[]\n",
    "        for j in range(0,len(motifs)):\n",
    "            L1.append(motifs[j][i])\n",
    "        for t in L1:\n",
    "            dec[t]=dec[t]+1\n",
    "        S=[]\n",
    "        for t in dec:\n",
    "            S.append(dec[t])\n",
    "        L.append(len(motifs)-max(S))\n",
    "    return sum(L)\n",
    "    \n",
    "            "
   ]
  },
  {
   "cell_type": "code",
   "execution_count": 73,
   "metadata": {},
   "outputs": [],
   "source": [
    "def Profile_most_Probable(string , dic, n):\n",
    "    List1=[]\n",
    "    List2=[]\n",
    "    for i in range(0,len(string)-n+1):\n",
    "        kmer=string[i:i+n]\n",
    "        L=[]\n",
    "        for j in range(0,len(kmer)):\n",
    "             L.append(dic[kmer[j]][j])\n",
    "        List1.append(multiplyList(L))\n",
    "        List2.append(kmer)\n",
    "        \n",
    "    return List2[List1.index(max(List1))]"
   ]
  },
  {
   "cell_type": "code",
   "execution_count": 226,
   "metadata": {},
   "outputs": [],
   "source": [
    "def profilePseudocounts(motifs):\n",
    "    prof = []\n",
    "    for i in range(len(motifs[0])):\n",
    "        col = ''.join([motifs[j][i] for j in range(len(motifs))])\n",
    "        prof.append([float(col.count(nuc))/float(len(col)) for nuc in 'ACGT'])\n",
    "    dec={'A':[],'C':[],'G':[],'T':[]}  \n",
    "    for i in range(0,len(motifs[0])):\n",
    "        dec['A'].append(prof[i][0])\n",
    "        dec['C'].append(prof[i][1])\n",
    "        dec['G'].append(prof[i][2])\n",
    "        dec['T'].append(prof[i][3])\n",
    "    return dec"
   ]
  },
  {
   "cell_type": "code",
   "execution_count": 227,
   "metadata": {},
   "outputs": [],
   "source": [
    "def Profile_most_Probable(string , dic, n):\n",
    "    List1=[]\n",
    "    List2=[]\n",
    "    for i in range(0,len(string)-n+1):\n",
    "        kmer=string[i:i+n]\n",
    "        L=[]\n",
    "        for j in range(0,len(kmer)):\n",
    "             L.append(dic[kmer[j]][j])\n",
    "        List1.append(multiplyList(L))\n",
    "        List2.append(kmer)\n",
    "        \n",
    "    return List2[List1.index(max(List1))]"
   ]
  },
  {
   "cell_type": "code",
   "execution_count": 246,
   "metadata": {},
   "outputs": [],
   "source": [
    "def GREEDYMOTIFSEARCH(Dna, k,t):\n",
    "    bestmotifs=[]\n",
    "    for i in range(len(Dna)):\n",
    "        bestmotifs.append(Dna[i][0:k])\n",
    "    for l in range(0,len(Dna[0])-k+1):\n",
    "        motifs=[Dna[0][l:l+k]]\n",
    "        for j in range(1,t):\n",
    "            motifs.append(Profile_most_Probable(Dna[j],profilePseudocounts(motifs),k))\n",
    "        if score(motifs)<score(bestmotifs):\n",
    "            bestmotifs=motifs\n",
    "    for k in bestmotifs:\n",
    "        print(k)\n",
    "    \n",
    "\n",
    "\n",
    "                    \n",
    "    \n",
    "                           "
   ]
  },
  {
   "cell_type": "code",
   "execution_count": 252,
   "metadata": {},
   "outputs": [],
   "source": [
    "Dna=['TTTACGAAAGGAGATTTTCTGCTTTCCTCCCCGGTCCCGACTAATCTGGATGCCGCCGATAACAGGGTGGGTTACTTACACACATTTGGAGTTTAGAATCGAGCTTCTTCGGAATCTCTTATTACATTCTTCACGGGCGGCCGTTGGCCCCCACTC',\n",
    "'ACCCCTCCATAGTCCAATCCGCTCGTATCGCTGGTAGTAAAGTTTATATTGGACTCCTTTAGCCGTGGAATGACCCTCGGATGCATTGGGGTGTAGACGCGCAGGGGGTCTGGCAATAATATAGGGGCGCAGTAAGATCCGCCATCACGATGTACC',\n",
    "'GGAATATATTCCGGTCTATCACCTAAGCGAGTCTTAACTTCTAAAATTGCGCTTATCTTCTTATTACGGGAGTTTGGAGTATAGAGGATTTTAATAGGTGTCAAGGGAAAGCAGCCATTTACCGGATCGACCGGTAGCGCCATGTTACTACATTCG',\n",
    "'GTTGGCGGGTAGATAGTTTCCGACTGGCTAGTATACATTCCTTGGACGCAACAACAATAAAACAACGGAGTGCGTCTTAATTTTGTCCCAACACGCTAGAGGTGTCTGTTTGGCAACTGCGCCAACGACCTCCTTTTCGGCATTCCCCGCGATCAC',\n",
    "'GCTGATCGTGGTTAACCAGAACTGGCCTTGCTAAAGCCATTGCCTATGAGGGAGCAGAGCAAACTTACACCATACTTTGTTTCCGTTGGAGCCTAGAGTTTTGTAATAGCGCTCATATAGACAAGGCACTAGTGTGTAATTTATGTCTTCCCAAGG',\n",
    "'AGACTCCCTCTACGTTTTTATAGATGAAACGGCATAAGGTTTGTTTTGAGTTTTTTGCCAGGGCATCTGAGGAACTACTATGTTGTGACCGTAAATATAGGACGCCCTTCTTGGCCTCACGTCGGTAGAGGTATTGGCGTCTAGTAGCTGGGAATG',\n",
    "'CCCTTGCGAAACACTTATGGGTCCCTGGCGATTTGATTTGGGGCCTAGCGTTTACAAGGGTTGAGGGCTAATCAGTGCACGCATCTTGCCGAATACTGGTGGCAGGGCCTGAACCGTAACAAACGTCCCGGCCCTGGTATTGCAGGTTGTCATTCA',\n",
    "'CTAGGGCACTCCCTCTCTTTTTGTGTACAAATACCTAAAGTGGTTACTGTAGCTGAAACCATTGGCGAGTAGTTTGCCTGCTGTAGGGTACCCTTTGCCGCTAAGAAACAGATAGGTGTGAGGACTCTTGCCACATCCAACGATTCTTGAATCGGA',\n",
    "'AGGCAGCCGAAACGAAAAAGGTTTCCACGCACCAAGAGAAAAAACGTACTTGGAGTTTAGTGGCGATACGCAACCCAAGATTCCGCTTACGGCGAGGCTCCCGCCTTAGGAGCTTAGCTTAAAGGGAGTCTGATTCGTTATAAGATTGGCCGCAAT',\n",
    "'TATTGGCCTTAAGCTGCTCGTTTGGTGGGTAACTTGTCCATCGTTTTATATGCGAGGGTCTGGCCTGGATCCCCTGAATACTCAAGAAACGGGTAACCCAAGCACTCCCTTGGCGTTTAGGAGCGCGACAACCGAACCTTCAGTAAAGATTAAGGG',\n",
    "'TAGCGTCTCAGGTTGAGTATGCCAACACTCTGGGGCCCCACTTTGGTAATTGTGGCTACGATTCTTGTCTCGATTCATTAGCAAGTTGTCAACATAACCGGCTTCGTGTGCGAACATGCTTTGTGTTAACTAACCGTAGTATGAGTTGGCGTCTAG',\n",
    "'AAAACACGGCCTCACTAATCCGGAACAGTGCCATGAAGCCCACCCGGCAGTATCTTTCGCGAGTTGATGCAGTGACGTGAAGTACTATAGTCATGTTTTGGCCAGCCTGCTTTTTGAGACGTTGGTGGTTAGGAAACGTCCAAAAAGATAGAGAGG',\n",
    "'ATTTGATCTATCTGGTTAGCCCATGATATCTTGCCAAATACCATCGCCCGCTGTAAACCTGTTTATAAGTTGCCGCCCACAGTGGGAGAAGCCACCTGTGGCTGCAACAGAACTAGATGCTTTGGAGGATAGCCGTTTTATGCAACGTCGTTTGGA',\n",
    "'CAAAAGGTATATGGTCGTAGCGTCCCCACTGAGTGAGGGTCTGGGCCTGTTAGGACACATACCAATGTCTACGAACAGAGGGTCGCGGTTCTGTCGTTGATCTCGATGTGTCTGGGTGGGCTTGGAGAATAGCGACTGACTTGATCGGAGAACCTC',\n",
    "'GTTGGCGGATAGGAGTTACCAATAAGATGCTCTCTCACAGGCGTCGATACGCCTATATCTCTAAGGAGTCCACGCCAGCTTGAAGCAGCAAACCGCTCTATTGCGACTCCTTCCCTGTGGTGCCAAGTTACTCGTGAAGGGACCTAGCAATCCTAC',\n",
    "'ATTCGTTCGATCTAAATCATCGCGGACTACCGTTACGATCGAGTGACATCTACGACCTATGGAAAGATTCGATATCTTCTAATTTCGTGCGACGCCGCTTTCCAATGCATTGTCCAGAGCATCTTAGCGATGATTGGAGCTTAGAAACAGGTTCCT',\n",
    "'CATGGATATTATCCTTTCTGGTAACGTACGGCAGTGTAATGCAGCCCTAATTACGTACGCTGCAACCCCATGCTCAGCGCGCGTATAGGCGGGCAGGAATGTACCTGCGTTGGTGGATAGACAACAATAAAAGCCATGGCGAGACGCCAAGTGGCA',\n",
    "'GAGCTCAATTGATTACAATACTCGAGTAGCGGCTATCAAGTCTAATGGGGTCAGCCCCCGCTGCGGCGCGGGACACCGCAACGACCCACGTGGGACCTTGGCGGTTAGAGGGCTGTCCGATCATGCGATGGTGTGACATTCGCAGCTAGGCCACAG',\n",
    "'CAGAGGCCATCTCTTGACAGGGTCAGCGCATAGCCCTACCGACCGGGGCGGGCGACAAACTGATTTGCAGTTCTTGGAGACTAGTCCGCCTTTTAGTGGATTACATCTCTGAGACGTTCGGTTTCTTCATGTTGATTCGTGTACCAAAGAGACGTG',\n",
    "'TTCGTGTCACGGGTTGGTGGCTAGTCCTTGGTTGACATCCCCCTACTCGAGGTCGTACAACCGGTTTGCTCTTCGGGGCTCTCTGGCTGTACTGCAAGCCGGTGAGTTTTAGGCTACAAGCTCAAACATTATGCTATTTCGCCGCGATATATGTGT',\n",
    "'AGCGGGCTAGTCAAATATACTCAAGTCGAACGCTTGAAGCCTGGTTCGAAGGATATTTTTTTAGAAGCGTGTTTCAAGGTGCAGGTGAATGCTGTTCTTGGTGTATAGCTGACCATACTTTGGATATTATGAGCATAAACATAATTCGACGATCCA',\n",
    "'ACAACTCTGATCCGACGTCAGGCCAGTAACCAGCTACGTTCTGTCTCAGCTTTGCTACCACGTACCGCCGGTTTTGGCGGTTAGAGCTATAACGCTTCCAACCCCTGGTGAGCCGTGAGGTGATACTGGGGAGATCTCTGCTGTCACTCCATTGTC',\n",
    "'TCGTCGCCTATCGAGCACTTTCCCTAAACCTACTCATATTGTCGGGGTCTGTAGATTACGGTTGGGGTTTAGGGAGGTGAATAGATCTCAAATTACTACTAAGACCAATATCCGTGCCAATGAGTGTGAAGTCGAAAGACTATTCTATACGTTAAC',\n",
    "'CTTTGATGACATCACTCCGAGAATTATGTCACAAAGTAGCGACCAATCGCGAGCTGGCAAGTTGGAGACTAGCTCGGGGGTCCTAGCAATCTACATACTAAATATGCTTGTCTCTAAGCGTTTCGACTTGGATAGCGGTGGCTCCAGAGTGTCTAA',\n",
    "'TTCAGAGATTCCGCAGGAAAGTAAGGCAAGCTTACAGTTCCTGCCGCTCCCCGTCATAGAAATCTAATGTTAATCCAATATCACTTTGGTGCGTAGAGTCGAGAACCGCAGTTATTTTTACTCAATAGCTTCAAGACTGATGCGTGCTAACGTATT']"
   ]
  },
  {
   "cell_type": "code",
   "execution_count": 253,
   "metadata": {},
   "outputs": [
    {
     "name": "stdout",
     "output_type": "stream",
     "text": [
      "TTCGGAATCTCT\n",
      "ACCCCTCCATAG\n",
      "GGAATATATTCC\n",
      "GTTGGCGGGTAG\n",
      "GTTGGAGCCTAG\n",
      "ATTGGCGTCTAG\n",
      "CCCTTGCGAAAC\n",
      "ATTGGCGAGTAG\n",
      "CTTGGAGTTTAG\n",
      "CTTGGCGTTTAG\n",
      "GTTGGCGTCTAG\n",
      "GTTGGTGGTTAG\n",
      "TTTGGAGGATAG\n",
      "CTTGGAGAATAG\n",
      "GTTGGCGGATAG\n",
      "ATTGGAGCTTAG\n",
      "GTTGGTGGATAG\n",
      "CTTGGCGGTTAG\n",
      "CTTGGAGACTAG\n",
      "GTTGGTGGCTAG\n",
      "CTTGGTGTATAG\n",
      "TTTGGCGGTTAG\n",
      "GTTGGGGTTTAG\n",
      "GTTGGAGACTAG\n",
      "TTTGGTGCGTAG\n"
     ]
    }
   ],
   "source": [
    "GREEDYMOTIFSEARCH(Dna, 12,25)"
   ]
  }
 ],
 "metadata": {
  "kernelspec": {
   "display_name": "Python 3",
   "language": "python",
   "name": "python3"
  },
  "language_info": {
   "codemirror_mode": {
    "name": "ipython",
    "version": 3
   },
   "file_extension": ".py",
   "mimetype": "text/x-python",
   "name": "python",
   "nbconvert_exporter": "python",
   "pygments_lexer": "ipython3",
   "version": "3.7.4"
  }
 },
 "nbformat": 4,
 "nbformat_minor": 2
}
